{
  "nbformat": 4,
  "nbformat_minor": 0,
  "metadata": {
    "colab": {
      "private_outputs": true,
      "provenance": []
    },
    "kernelspec": {
      "name": "python3",
      "display_name": "Python 3"
    },
    "language_info": {
      "name": "python"
    }
  },
  "cells": [
    {
      "source": [
        "#Importing necessary libraries\n",
        "import pandas as pd\n",
        "import seaborn as sns\n",
        "import matplotlib.pyplot as plt\n",
        "%matplotlib inline\n",
        "\n",
        "from sklearn.preprocessing import StandardScaler, LabelEncoder\n",
        "from sklearn.tree import DecisionTreeClassifier\n",
        "from sklearn.model_selection import train_test_split, cross_val_score\n",
        "from sklearn.model_selection import GridSearchCV\n",
        "from sklearn.metrics import classification_report, accuracy_score, confusion_matrix, ConfusionMatrixDisplay # Corrected the import statement to use ConfusionMatrixDisplay instead of ConfusionMatrixDisplay3"
      ],
      "cell_type": "code",
      "metadata": {
        "id": "iP08aCCekrqJ"
      },
      "execution_count": null,
      "outputs": []
    },
    {
      "cell_type": "code",
      "source": [
        "#Loading data\n",
        "bank = pd.read_csv(\"/content/bank (1).csv\",sep=';')\n"
      ],
      "metadata": {
        "id": "LWK3zzFwvi82"
      },
      "execution_count": null,
      "outputs": []
    },
    {
      "cell_type": "code",
      "source": [
        "bank.head()"
      ],
      "metadata": {
        "id": "WICm75filO2X"
      },
      "execution_count": null,
      "outputs": []
    },
    {
      "cell_type": "code",
      "source": [
        "bank.shape"
      ],
      "metadata": {
        "id": "aC8ON_hqlPLv"
      },
      "execution_count": null,
      "outputs": []
    },
    {
      "cell_type": "code",
      "source": [
        "bank.info()"
      ],
      "metadata": {
        "id": "zhyhckXelPkg"
      },
      "execution_count": null,
      "outputs": []
    },
    {
      "cell_type": "code",
      "source": [
        "#Statistical Analysis\n",
        "bank.describe()"
      ],
      "metadata": {
        "id": "_MQAtJMjlQRZ"
      },
      "execution_count": null,
      "outputs": []
    },
    {
      "cell_type": "code",
      "source": [
        "#Checking Missing values\n",
        "bank.isnull().sum()"
      ],
      "metadata": {
        "id": "FHQqnG5AmA3N"
      },
      "execution_count": null,
      "outputs": []
    },
    {
      "cell_type": "code",
      "source": [
        "#Checking for duplicates\n",
        "bank.duplicated().sum()"
      ],
      "metadata": {
        "id": "7462hETZmBJA"
      },
      "execution_count": null,
      "outputs": []
    },
    {
      "cell_type": "code",
      "source": [
        "#Investigating these 12 duplicates\n",
        "bank[bank.duplicated()]"
      ],
      "metadata": {
        "id": "9BL9qEULmDFq"
      },
      "execution_count": null,
      "outputs": []
    },
    {
      "cell_type": "code",
      "source": [
        "sns.histplot(x=\"age\", data=bank, kde=True, hue= \"y\")\n",
        "plt.title(\"Age Distribution and Deposits\\n\")\n",
        "plt.show()"
      ],
      "metadata": {
        "id": "SjbVvdg_lQ5B"
      },
      "execution_count": null,
      "outputs": []
    },
    {
      "cell_type": "code",
      "source": [
        "plt.figure(figsize=(15,4))\n",
        "sns.countplot(x=\"job\", data= bank, hue =\"y\")\n",
        "plt.title(\"Occupation Distribution and Deposits\\n\")\n",
        "plt.show()"
      ],
      "metadata": {
        "id": "_4hJYl0TnFyk"
      },
      "execution_count": null,
      "outputs": []
    },
    {
      "cell_type": "code",
      "source": [
        "plt.figure(figsize=(7,3))\n",
        "sns.countplot(x=\"marital\", data= bank, hue =\"y\")\n",
        "plt.title(\"Marital Status and Deposits\\n\")\n",
        "plt.show()"
      ],
      "metadata": {
        "id": "ByRchGtvnGBu"
      },
      "execution_count": null,
      "outputs": []
    },
    {
      "cell_type": "code",
      "source": [
        "plt.figure(figsize=(12,4))\n",
        "sns.countplot(x=\"education\", data= bank, hue =\"y\")\n",
        "plt.title(\"Education Status and Deposits\\n\")\n",
        "plt.show()"
      ],
      "metadata": {
        "id": "xvGFwWTjnguE"
      },
      "execution_count": null,
      "outputs": []
    },
    {
      "cell_type": "code",
      "source": [
        "bank.default.value_counts()"
      ],
      "metadata": {
        "id": "ZCzNrRgvngzv"
      },
      "execution_count": null,
      "outputs": []
    },
    {
      "cell_type": "code",
      "source": [
        "plt.figure(figsize=(6,3.5))\n",
        "sns.countplot(x=\"housing\", data= bank, hue =\"y\")\n",
        "plt.title(\"Housing Loan Distribution and Deposits\\n\")\n",
        "plt.show()"
      ],
      "metadata": {
        "id": "kKs9YYyOnGFS"
      },
      "execution_count": null,
      "outputs": []
    },
    {
      "cell_type": "code",
      "source": [
        "plt.figure(figsize=(6,3.5))\n",
        "sns.countplot(x=\"loan\", data= bank, hue =\"y\")\n",
        "plt.title(\"Personal Loan Distribution and Deposits\\n\")\n",
        "plt.show()"
      ],
      "metadata": {
        "id": "iUYYgjovorpV"
      },
      "execution_count": null,
      "outputs": []
    },
    {
      "cell_type": "code",
      "source": [
        "#Count of Outcome\n",
        "bank.y.value_counts()\n",
        "keys = bank.y.value_counts().index\n",
        "data = bank.y.value_counts().values\n",
        "plt.figure(figsize=(6,3.5))\n",
        "explode = [0,0.1]\n",
        "plt.pie(data,labels=keys,explode=explode, autopct='%.0f%%')\n",
        "plt.show()"
      ],
      "metadata": {
        "id": "YkNtiWfNotpX"
      },
      "execution_count": null,
      "outputs": []
    },
    {
      "cell_type": "code",
      "source": [
        "cols = bank.select_dtypes(\"object\").columns\n",
        "cols"
      ],
      "metadata": {
        "id": "ZiJm981epE6B"
      },
      "execution_count": null,
      "outputs": []
    },
    {
      "cell_type": "code",
      "source": [
        "le = LabelEncoder()\n",
        "\n",
        "bank[cols] = bank[cols].apply(le.fit_transform)"
      ],
      "metadata": {
        "id": "WiVvojWvpE8o"
      },
      "execution_count": null,
      "outputs": []
    },
    {
      "cell_type": "code",
      "source": [
        "bank.head(3)"
      ],
      "metadata": {
        "id": "CFeFuZXIpFAF"
      },
      "execution_count": null,
      "outputs": []
    },
    {
      "cell_type": "code",
      "source": [
        "plt.figure(figsize=(23,10))\n",
        "sns.heatmap(bank.corr(), cmap='bwr', annot=True)\n",
        "plt.show()"
      ],
      "metadata": {
        "id": "gMKKqvIEpz5h"
      },
      "execution_count": null,
      "outputs": []
    },
    {
      "cell_type": "code",
      "source": [
        "#Splitting input and output\n",
        "X = bank.drop(\"y\", axis=1)\n",
        "y = bank.y"
      ],
      "metadata": {
        "id": "OtkA-s8tp00j"
      },
      "execution_count": null,
      "outputs": []
    },
    {
      "cell_type": "code",
      "source": [
        "scaler = StandardScaler()\n",
        "\n",
        "X_scaled = pd.DataFrame(scaler.fit_transform(X), columns = X.columns)"
      ],
      "metadata": {
        "id": "_PHTC93yqKoU"
      },
      "execution_count": null,
      "outputs": []
    },
    {
      "cell_type": "code",
      "source": [
        "#Train-test split\n",
        "train_X, test_X, train_y, test_y = train_test_split(X_scaled, y, test_size=0.3)"
      ],
      "metadata": {
        "id": "b6hnxtpQqKq3"
      },
      "execution_count": null,
      "outputs": []
    },
    {
      "cell_type": "code",
      "source": [
        "decision_tree = DecisionTreeClassifier()\n",
        "decision_tree.fit(train_X, train_y)"
      ],
      "metadata": {
        "id": "0h-FNzL6qKun"
      },
      "execution_count": null,
      "outputs": []
    },
    {
      "cell_type": "code",
      "source": [
        "print('Train Score: {}'.format(decision_tree.score(train_X, train_y)))\n",
        "print('Test Score: {}'.format(decision_tree.score(test_X, test_y)))"
      ],
      "metadata": {
        "id": "OMHyDsBUqast"
      },
      "execution_count": null,
      "outputs": []
    },
    {
      "cell_type": "code",
      "source": [
        "cross_val_score(decision_tree, train_X, train_y, cv=5).mean()"
      ],
      "metadata": {
        "id": "gqZvrVsfqtR4"
      },
      "execution_count": null,
      "outputs": []
    },
    {
      "cell_type": "code",
      "source": [
        "ypred = decision_tree.predict(test_X)\n",
        "print(classification_report(test_y,ypred))"
      ],
      "metadata": {
        "id": "V35AUrtQqtVU"
      },
      "execution_count": null,
      "outputs": []
    },
    {
      "cell_type": "code",
      "source": [
        "#Applying Grid search cv to find best estimaters to improve model performance\n",
        "\n",
        "param_grid = {\n",
        "    'max_depth': [3, 5, 7,10, None],\n",
        "    'criterion' : ['gini', 'entropy'],\n",
        "    'min_samples_leaf': [3, 5, 7, 9,10,20]\n",
        "    }"
      ],
      "metadata": {
        "id": "xC8FMSo1rb9q"
      },
      "execution_count": null,
      "outputs": []
    },
    {
      "cell_type": "code",
      "source": [
        "gscv = GridSearchCV(decision_tree, param_grid, cv=5, verbose=1)\n",
        "gscv.fit(train_X, train_y)"
      ],
      "metadata": {
        "id": "_Jzegko6rcBA"
      },
      "execution_count": null,
      "outputs": []
    },
    {
      "cell_type": "code",
      "source": [
        "gscv.best_params_"
      ],
      "metadata": {
        "id": "MZ_YiSrkr0Oo"
      },
      "execution_count": null,
      "outputs": []
    },
    {
      "cell_type": "code",
      "source": [
        "gscv.best_estimator_"
      ],
      "metadata": {
        "id": "olrK2PJjr0SF"
      },
      "execution_count": null,
      "outputs": []
    },
    {
      "cell_type": "code",
      "source": [
        "cross_val_score(gscv.best_estimator_, train_X, train_y, cv=5).mean()"
      ],
      "metadata": {
        "id": "WJgvgEkVsW_x"
      },
      "execution_count": null,
      "outputs": []
    },
    {
      "cell_type": "code",
      "source": [
        "clf = DecisionTreeClassifier(criterion= 'gini', max_depth= 5, min_samples_leaf = 3)\n",
        "clf.fit(train_X, train_y)"
      ],
      "metadata": {
        "id": "o_gfy5sgsXFe"
      },
      "execution_count": null,
      "outputs": []
    },
    {
      "cell_type": "code",
      "source": [
        "print('Train Score: {}'.format(clf.score(train_X, train_y)))\n",
        "print('Test Score: {}'.format(clf.score(test_X, test_y)))"
      ],
      "metadata": {
        "id": "jLEps4Reskwr"
      },
      "execution_count": null,
      "outputs": []
    },
    {
      "cell_type": "code",
      "source": [
        "pred_y = clf.predict(test_X)"
      ],
      "metadata": {
        "id": "DVJcmvr7slHX"
      },
      "execution_count": null,
      "outputs": []
    },
    {
      "cell_type": "code",
      "source": [
        "#Confusion Matrix\n",
        "cm = confusion_matrix(pred_y, test_y)\n",
        "ConfusionMatrixDisplay(cm, display_labels=clf.classes_).plot()\n",
        "plt.show()"
      ],
      "metadata": {
        "id": "wuSda02TtDfo"
      },
      "execution_count": null,
      "outputs": []
    },
    {
      "cell_type": "code",
      "source": [
        "#Classification Report\n",
        "print(classification_report(pred_y, test_y))"
      ],
      "metadata": {
        "id": "kl4bvHcItDjE"
      },
      "execution_count": null,
      "outputs": []
    },
    {
      "cell_type": "code",
      "source": [
        "#Accuracy Score\n",
        "accuracy = accuracy_score(test_y,pred_y)\n",
        "print(\"Test Accuracy of Decision Tree Classifier : {}\".format(accuracy*100))"
      ],
      "metadata": {
        "id": "NiuBFlrIufVb"
      },
      "execution_count": null,
      "outputs": []
    },
    {
      "cell_type": "code",
      "source": [
        "#Cross Validation Score\n",
        "Cross_val = cross_val_score(clf, test_X,test_y, cv=5).mean()\n",
        "print(\"Cross-Validation Accuracy Scores Decision Tree : \",Cross_val*100)"
      ],
      "metadata": {
        "id": "xP8J6hpFul_u"
      },
      "execution_count": null,
      "outputs": []
    },
    {
      "cell_type": "code",
      "source": [
        "from sklearn import tree\n",
        "fig = plt.figure(figsize=(25,20))\n",
        "t= tree.plot_tree(clf,filled=True,feature_names=X.columns)"
      ],
      "metadata": {
        "id": "Jhn_wzh3uvmc"
      },
      "execution_count": null,
      "outputs": []
    }
  ]
}